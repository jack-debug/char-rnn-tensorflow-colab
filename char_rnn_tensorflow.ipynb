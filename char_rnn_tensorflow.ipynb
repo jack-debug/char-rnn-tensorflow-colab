{
  "nbformat": 4,
  "nbformat_minor": 0,
  "metadata": {
    "colab": {
      "name": "char-rnn-tensorflow",
      "provenance": [],
      "toc_visible": true,
      "include_colab_link": true
    },
    "kernelspec": {
      "name": "python3",
      "display_name": "Python 3"
    },
    "accelerator": "GPU"
  },
  "cells": [
    {
      "cell_type": "markdown",
      "metadata": {
        "id": "view-in-github",
        "colab_type": "text"
      },
      "source": [
        "<a href=\"https://colab.research.google.com/github/jack-debug/char-rnn-tensorflow-colab/blob/main/char_rnn_tensorflow.ipynb\" target=\"_parent\"><img src=\"https://colab.research.google.com/assets/colab-badge.svg\" alt=\"Open In Colab\"/></a>"
      ]
    },
    {
      "cell_type": "markdown",
      "metadata": {
        "id": "9kYjiqi0DbcK"
      },
      "source": [
        "# **char-rnn-tensorflow**"
      ]
    },
    {
      "cell_type": "markdown",
      "metadata": {
        "id": "5n4RggAJDVfm"
      },
      "source": [
        "First, lets install our required tensorflow version."
      ]
    },
    {
      "cell_type": "code",
      "metadata": {
        "id": "f0g2aoklDAk4"
      },
      "source": [
        "!pip install tensorflow-gpu==1.15"
      ],
      "execution_count": null,
      "outputs": []
    },
    {
      "cell_type": "markdown",
      "metadata": {
        "id": "88oovhHyCaIW"
      },
      "source": [
        "Next, lets clone the repository."
      ]
    },
    {
      "cell_type": "code",
      "metadata": {
        "id": "S2h8E-ZmCMeA",
        "outputId": "e18c3914-00d8-4ab9-e808-7130460486de",
        "colab": {
          "base_uri": "https://localhost:8080/"
        }
      },
      "source": [
        "!git clone https://github.com/sherjilozair/char-rnn-tensorflow.git\n",
        "%cd char-rnn-tensorflow"
      ],
      "execution_count": null,
      "outputs": [
        {
          "output_type": "stream",
          "text": [
            "Cloning into 'char-rnn-tensorflow'...\n",
            "remote: Enumerating objects: 404, done.\u001b[K\n",
            "remote: Total 404 (delta 0), reused 0 (delta 0), pack-reused 404\n",
            "Receiving objects: 100% (404/404), 508.45 KiB | 20.34 MiB/s, done.\n",
            "Resolving deltas: 100% (238/238), done.\n",
            "/content/char-rnn-tensorflow\n"
          ],
          "name": "stdout"
        }
      ]
    },
    {
      "cell_type": "markdown",
      "metadata": {
        "id": "NBPNhCHSWrpk"
      },
      "source": [
        "We will train on the tinyshakespeare dataset."
      ]
    },
    {
      "cell_type": "code",
      "metadata": {
        "id": "q66uBlilCz81"
      },
      "source": [
        "!python train.py --rnn_size 1024 --num_layers 3"
      ],
      "execution_count": null,
      "outputs": []
    },
    {
      "cell_type": "markdown",
      "metadata": {
        "id": "-E_9M2iLDn4T"
      },
      "source": [
        "After we've trained, we can sample from a checkpoint"
      ]
    },
    {
      "cell_type": "code",
      "metadata": {
        "id": "6Cd73wYTDreD"
      },
      "source": [
        "!python sample.py -n 1000"
      ],
      "execution_count": null,
      "outputs": []
    },
    {
      "cell_type": "markdown",
      "metadata": {
        "id": "v8yz6SjJgFV7"
      },
      "source": [
        "## **New Data (Sherlock Holmes)**"
      ]
    },
    {
      "cell_type": "markdown",
      "metadata": {
        "id": "nGt-QrmjCeNT"
      },
      "source": [
        "Next, let's try some different data. For example, we will use the entire Sherlock Holmes."
      ]
    },
    {
      "cell_type": "code",
      "metadata": {
        "id": "Q8i2CXVECj41"
      },
      "source": [
        "%cd data\n",
        "!mkdir sherlock\n",
        "%cd sherlock\n",
        "!wget https://sherlock-holm.es/stories/plain-text/cnus.txt\n",
        "!mv cnus.txt input.txt\n",
        "%cd /content/char-rnn-tensorflow/"
      ],
      "execution_count": null,
      "outputs": []
    },
    {
      "cell_type": "markdown",
      "metadata": {
        "id": "TDWKsFAcCta7"
      },
      "source": [
        "Now, lets train on our new data."
      ]
    },
    {
      "cell_type": "code",
      "metadata": {
        "id": "VNcizTtxCodu"
      },
      "source": [
        "!python train.py --data_dir data/sherlock --rnn_size 500"
      ],
      "execution_count": null,
      "outputs": []
    },
    {
      "cell_type": "markdown",
      "metadata": {
        "id": "9PdXUqicfPIq"
      },
      "source": [
        "If it fails due to the data being too small, run this code block instead."
      ]
    },
    {
      "cell_type": "code",
      "metadata": {
        "id": "CUq5vW5vfO0o"
      },
      "source": [
        "!python train.py --data_dir data/sherlock --rnn_size 200 --seq_length 30 --num_epochs 500"
      ],
      "execution_count": null,
      "outputs": []
    },
    {
      "cell_type": "markdown",
      "metadata": {
        "id": "t_XIUL6hXGBo"
      },
      "source": [
        "Now let's sample from the new data!"
      ]
    },
    {
      "cell_type": "code",
      "metadata": {
        "id": "FnEv-W8TXFcc"
      },
      "source": [
        "!python sample.py"
      ],
      "execution_count": null,
      "outputs": []
    },
    {
      "cell_type": "markdown",
      "metadata": {
        "id": "AgHzt7JvXOoD"
      },
      "source": [
        "To visualise the training progress, we can use Tensorboard."
      ]
    },
    {
      "cell_type": "code",
      "metadata": {
        "id": "4BNnMwLXXSmx"
      },
      "source": [
        "!tensorboard --logdir=./logs/"
      ],
      "execution_count": null,
      "outputs": []
    },
    {
      "cell_type": "markdown",
      "metadata": {
        "id": "haapbjaQgMwW"
      },
      "source": [
        ""
      ]
    },
    {
      "cell_type": "markdown",
      "metadata": {
        "id": "XDJs53jWgO_M"
      },
      "source": [
        "## **Upload your own Data (WIP)**"
      ]
    },
    {
      "cell_type": "markdown",
      "metadata": {
        "id": "4tJPsn7Xgxo6"
      },
      "source": [
        "Now you can try training the AI on your own data!\n",
        "Run the cell below to upload your files to the notebook.\n",
        "\n",
        "*Currently a work in progress, this script will not work*"
      ]
    },
    {
      "cell_type": "code",
      "metadata": {
        "id": "8x9Oy2k2gWzu"
      },
      "source": [
        "%cd /content/\n",
        "from google.colab import files\n",
        "uploaded = files.upload()\n",
        "filel = list(uploaded.keys())[0]\n",
        "filell = filel.replace(\"'\", \"\")\n",
        "print(filell)\n",
        "!mv filell /char-rnn-tensorflow/data/"
      ],
      "execution_count": null,
      "outputs": []
    }
  ]
}